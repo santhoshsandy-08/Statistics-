{
 "cells": [
  {
   "cell_type": "code",
   "execution_count": 2,
   "id": "3b65c9a6",
   "metadata": {},
   "outputs": [],
   "source": [
    "import statsmodels.api as sm"
   ]
  },
  {
   "cell_type": "code",
   "execution_count": 3,
   "id": "cec682bd",
   "metadata": {},
   "outputs": [],
   "source": [
    "n=2000\n",
    "pnull=0.05\n",
    "palt=0.046"
   ]
  },
  {
   "cell_type": "code",
   "execution_count": 4,
   "id": "b25fd737",
   "metadata": {},
   "outputs": [
    {
     "data": {
      "text/plain": [
       "(-0.8539292422983582, 0.19657209793658192)"
      ]
     },
     "execution_count": 4,
     "metadata": {},
     "output_type": "execute_result"
    }
   ],
   "source": [
    "sm.stats.proportions_ztest(palt*n,n,pnull,alternative='smaller')"
   ]
  },
  {
   "cell_type": "code",
   "execution_count": null,
   "id": "ca665bbe",
   "metadata": {},
   "outputs": [],
   "source": []
  }
 ],
 "metadata": {
  "kernelspec": {
   "display_name": "Python 3 (ipykernel)",
   "language": "python",
   "name": "python3"
  },
  "language_info": {
   "codemirror_mode": {
    "name": "ipython",
    "version": 3
   },
   "file_extension": ".py",
   "mimetype": "text/x-python",
   "name": "python",
   "nbconvert_exporter": "python",
   "pygments_lexer": "ipython3",
   "version": "3.9.13"
  }
 },
 "nbformat": 4,
 "nbformat_minor": 5
}
